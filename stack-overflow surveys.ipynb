{
 "cells": [
  {
   "cell_type": "markdown",
   "metadata": {},
   "source": [
    "# Imports"
   ]
  },
  {
   "cell_type": "code",
   "execution_count": 173,
   "metadata": {},
   "outputs": [],
   "source": [
    "import requests\n",
    "import numpy as np\n",
    "import pandas as pd\n",
    "import matplotlib.pyplot as plt\n",
    "import os\n",
    "import zipfile\n",
    "import itertools\n",
    "from typing import List\n",
    "\n",
    "%matplotlib inline\n",
    "\n",
    "keywords = List[str]\n",
    "Datasets = List[pd.DataFrame]"
   ]
  },
  {
   "cell_type": "markdown",
   "metadata": {},
   "source": [
    "# Constants"
   ]
  },
  {
   "cell_type": "code",
   "execution_count": 2,
   "metadata": {},
   "outputs": [],
   "source": [
    "base_url = 'https://drive.google.com/uc?export=download'\n",
    "survey_ids = {\n",
    "    2011: '0Bx0LyhBTBZQgUGVYaGx3SzdUQ1U',\n",
    "    2012: '0B0DL28AqnGsrX3JaZWVwWEpHNWM',\n",
    "    2013: '0B0DL28AqnGsrenpPNTc5UE1PYW8',\n",
    "    2014: '0B0DL28AqnGsrempjMktvWFNaQzA',\n",
    "    2015: '0B0DL28AqnGsra1psanV1MEdxZk0',\n",
    "    2016: '0B0DL28AqnGsrV0VldnVIT1hyb0E',\n",
    "    2017: '0B6ZlG_Eygdj-c1kzcmUxN05VUXM',\n",
    "    2018: '1_9On2-nsBQIw3JiY43sWbrF8EjrqrR4U',\n",
    "    2019: '1QOmVDpd8hcVYqqUXDXf68UMDWQZP0wQV'\n",
    "}\n"
   ]
  },
  {
   "cell_type": "markdown",
   "metadata": {},
   "source": [
    "# Functions"
   ]
  },
  {
   "cell_type": "code",
   "execution_count": 178,
   "metadata": {},
   "outputs": [],
   "source": [
    "def download_data(url: str, file_id: str):\n",
    "    \n",
    "    response = requests.get(\n",
    "        url=url,\n",
    "        params={\n",
    "            'id': file_id\n",
    "        },\n",
    "        stream=True\n",
    "    )\n",
    "    return response\n",
    "\n",
    "def unzip_file(file_name: str, extract_to_folder: str, file_format: str='CSV'):\n",
    "    \n",
    "    zipped_file = zipfile.ZipFile(file_name)\n",
    "    for item in zipped_file.filelist:\n",
    "        in_file = item.filename\n",
    "        if not os.path.exists(os.path.join(str(extract_to_folder), in_file)):\n",
    "            if in_file.upper().endswith(file_format.upper()):\n",
    "                zipfile.ZipFile(file_name).extract(in_file, path=str(extract_to_folder))\n",
    "                \n",
    "\n",
    "def read_csv_files(file_format: str='CSV', key_words: keywords=['RESULTS']) -> Datasets:\n",
    "    \n",
    "    dfs = dict()\n",
    "    \n",
    "    for root, dirs, files in os.walk(top='.'):\n",
    "        [dirs.remove(d) if d in ['__MACOSX', '.git'] else None for d in dirs]\n",
    "        \n",
    "        for file in files:\n",
    "            if file.upper().endswith('CSV') and \\\n",
    "            any(val.upper() in file.upper() for val in key_words):\n",
    "                try:\n",
    "                    dfs[root[2:6]] = (pd.read_csv(os.path.join(root, file)))\n",
    "                except UnicodeDecodeError:\n",
    "                    print('An error occurred while decoding \"{in_file}\"')\n",
    "    return dfs\n",
    "\n",
    "def get_data(url: str, file_ids: dict, download_files: bool=False, file_format: str='CSV', key_words: keywords=['RESULTS']) -> Datasets:\n",
    "    \n",
    "    key_values = []\n",
    "    \n",
    "    for survey_year, file_id in file_ids.items():\n",
    "        \n",
    "        file_name = os.path.join(str(survey_year), 'data.zip')\n",
    "        key_values.append(survey_year)\n",
    "        \n",
    "        if download_files:\n",
    "            try:\n",
    "                response = download_data(url, file_id)\n",
    "                os.makedirs(str(survey_year))\n",
    "                with open(file_name, 'wb') as file:\n",
    "                    file.write(response.content)\n",
    "            except FileExistsError:\n",
    "                print(f'File \"{file_name}\" already exists.')\n",
    "        \n",
    "        unzip_file(file_name, survey_year)    \n",
    "        \n",
    "    dfs = read_csv_files(key_words=key_words)\n",
    "    return dfs"
   ]
  },
  {
   "cell_type": "code",
   "execution_count": 179,
   "metadata": {},
   "outputs": [
    {
     "name": "stderr",
     "output_type": "stream",
     "text": [
      "/home/lior/apps/anaconda3/envs/py37/lib/python3.7/site-packages/IPython/core/interactiveshell.py:3331: DtypeWarning: Columns (5,108,121,196,197,198) have mixed types.Specify dtype option on import or set low_memory=False.\n",
      "  exec(code_obj, self.user_global_ns, self.user_ns)\n",
      "/home/lior/apps/anaconda3/envs/py37/lib/python3.7/site-packages/IPython/core/interactiveshell.py:3331: DtypeWarning: Columns (46,48,62) have mixed types.Specify dtype option on import or set low_memory=False.\n",
      "  exec(code_obj, self.user_global_ns, self.user_ns)\n",
      "/home/lior/apps/anaconda3/envs/py37/lib/python3.7/site-packages/IPython/core/interactiveshell.py:3331: DtypeWarning: Columns (8,12,13,14,15,16,50,51,52,53,55,56,57,58,59,60,61,62,63,64,65,66,67,68,69,70,71,72,73,74,75,76,77,78,79,80,81,82,83,84,85,93,94,95,96,97,98,99,100,101,102,103,104,105,106,107,108,109,110,111,112,113,114,115,116,117,118,119,120,121,122,123,124,125,126,127,128) have mixed types.Specify dtype option on import or set low_memory=False.\n",
      "  exec(code_obj, self.user_global_ns, self.user_ns)\n"
     ]
    },
    {
     "name": "stdout",
     "output_type": "stream",
     "text": [
      "An error occurred while decoding \"{in_file}\"\n",
      "An error occurred while decoding \"{in_file}\"\n"
     ]
    }
   ],
   "source": [
    "dfs = get_data(download_files=False, url=base_url, file_ids=survey_ids, key_words=[' results', 'responses', 'results_public'])"
   ]
  },
  {
   "cell_type": "code",
   "execution_count": 180,
   "metadata": {},
   "outputs": [
    {
     "data": {
      "text/plain": [
       "dict_keys(['2014', '2015', '2019', '2013', '2018', '2016', '2017'])"
      ]
     },
     "execution_count": 180,
     "metadata": {},
     "output_type": "execute_result"
    }
   ],
   "source": [
    "dfs.keys()"
   ]
  },
  {
   "cell_type": "code",
   "execution_count": 195,
   "metadata": {},
   "outputs": [
    {
     "name": "stdout",
     "output_type": "stream",
     "text": [
      "66\n"
     ]
    }
   ],
   "source": [
    "print(len(dfs['2016'].columns.tolist()))"
   ]
  },
  {
   "cell_type": "code",
   "execution_count": null,
   "metadata": {},
   "outputs": [],
   "source": []
  },
  {
   "cell_type": "code",
   "execution_count": null,
   "metadata": {},
   "outputs": [],
   "source": []
  },
  {
   "cell_type": "code",
   "execution_count": null,
   "metadata": {},
   "outputs": [],
   "source": []
  },
  {
   "cell_type": "code",
   "execution_count": null,
   "metadata": {},
   "outputs": [],
   "source": []
  },
  {
   "cell_type": "code",
   "execution_count": null,
   "metadata": {},
   "outputs": [],
   "source": []
  },
  {
   "cell_type": "code",
   "execution_count": null,
   "metadata": {},
   "outputs": [],
   "source": []
  },
  {
   "cell_type": "code",
   "execution_count": null,
   "metadata": {},
   "outputs": [],
   "source": []
  },
  {
   "cell_type": "code",
   "execution_count": null,
   "metadata": {},
   "outputs": [],
   "source": []
  }
 ],
 "metadata": {
  "kernelspec": {
   "display_name": "Python 3.7.7 64-bit ('py37': conda)",
   "language": "python",
   "name": "python37764bitpy37conda3717021703f140b4b10625cc644415b2"
  },
  "language_info": {
   "codemirror_mode": {
    "name": "ipython",
    "version": 3
   },
   "file_extension": ".py",
   "mimetype": "text/x-python",
   "name": "python",
   "nbconvert_exporter": "python",
   "pygments_lexer": "ipython3",
   "version": "3.7.7"
  }
 },
 "nbformat": 4,
 "nbformat_minor": 4
}
